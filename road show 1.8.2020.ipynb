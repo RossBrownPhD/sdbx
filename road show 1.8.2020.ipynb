{
 "cells": [
  {
   "cell_type": "code",
   "execution_count": null,
   "metadata": {},
   "outputs": [],
   "source": [
    "# Find job titles that make $70-110K ($35-$55) hour"
   ]
  },
  {
   "cell_type": "code",
   "execution_count": 1,
   "metadata": {},
   "outputs": [],
   "source": [
    "import pandas as pd\n",
    "pd.set_option('mode.chained_assignment', None)\n",
    "pd.set_option('max_columns', 120)\n",
    "pd.set_option('max_colwidth', 5000)\n",
    "pd.options.display.max_rows = 999\n",
    "import numpy as np\n",
    "import matplotlib.pyplot as plt\n",
    "from IPython.display import display\n",
    "%matplotlib inline\n",
    "import seaborn as sns\n",
    "import warnings\n",
    "warnings.filterwarnings(\"ignore\")\n",
    "#import datetime as dt\n",
    "#from datetime import datetime\n",
    "#from datetime import timedelta \n",
    "#import plotly.graph_objects as go"
   ]
  },
  {
   "cell_type": "code",
   "execution_count": null,
   "metadata": {},
   "outputs": [],
   "source": [
    "\"\"\"These are the conversions for units of time less than a year:\n",
    "\n",
    "70,000:\n",
    "Hourly Wage : $33.65\n",
    "Daily Wage : $269.23\n",
    "Weekly Wage : $1346.15\n",
    "Monthly Wage : $5833.33\n",
    "Yearly Wage : $70,000.00\n",
    "\n",
    "110,000\n",
    "Hourly Wage : $52.88\n",
    "Daily Wage : $423.08\n",
    "Weekly Wage : $2115.38\n",
    "Monthly Wage : $9166.67\n",
    "Yearly Wage : $110,000.00\n",
    "\n",
    "based on a converter here:\n",
    "\n",
    "https://www.mtscastlerock.com/calc/index.php\n",
    "\n",
    "\n",
    "\"\"\" "
   ]
  },
  {
   "cell_type": "code",
   "execution_count": 2,
   "metadata": {},
   "outputs": [
    {
     "data": {
      "text/plain": [
       "(43296, 14)"
      ]
     },
     "execution_count": 2,
     "metadata": {},
     "output_type": "execute_result"
    }
   ],
   "source": [
    "file_loc = \"C:/Users/rmbrm/Documents/contract projects/data/Nestling jobs data missing removed.xlsx\"\n",
    "df = pd.read_excel(file_loc, index_col=None, na_values=['NA'])\n",
    "df.shape"
   ]
  },
  {
   "cell_type": "code",
   "execution_count": 3,
   "metadata": {},
   "outputs": [
    {
     "data": {
      "text/plain": [
       "yearly     32404\n",
       "hourly      8243\n",
       "monthly      980\n",
       "weekly       941\n",
       "daily        677\n",
       "session       32\n",
       "sales         16\n",
       "mileage        3\n",
       "Name: salary_unit, dtype: int64"
      ]
     },
     "execution_count": 3,
     "metadata": {},
     "output_type": "execute_result"
    }
   ],
   "source": [
    "df['salary_unit'].value_counts()"
   ]
  },
  {
   "cell_type": "code",
   "execution_count": 4,
   "metadata": {},
   "outputs": [],
   "source": [
    "yearly = df.loc[df['salary_unit'] == 'yearly']"
   ]
  },
  {
   "cell_type": "code",
   "execution_count": 5,
   "metadata": {},
   "outputs": [
    {
     "data": {
      "text/plain": [
       "(32404, 14)"
      ]
     },
     "execution_count": 5,
     "metadata": {},
     "output_type": "execute_result"
    }
   ],
   "source": [
    "yearly.shape"
   ]
  },
  {
   "cell_type": "code",
   "execution_count": 6,
   "metadata": {},
   "outputs": [
    {
     "data": {
      "text/plain": [
       "(8243, 14)"
      ]
     },
     "execution_count": 6,
     "metadata": {},
     "output_type": "execute_result"
    }
   ],
   "source": [
    "hourly = df.loc[df['salary_unit'] == 'hourly']\n",
    "hourly.shape\n"
   ]
  },
  {
   "cell_type": "code",
   "execution_count": 7,
   "metadata": {},
   "outputs": [
    {
     "data": {
      "text/plain": [
       "(980, 14)"
      ]
     },
     "execution_count": 7,
     "metadata": {},
     "output_type": "execute_result"
    }
   ],
   "source": [
    "monthly = df.loc[df['salary_unit'] == 'monthly']\n",
    "monthly.shape\n"
   ]
  },
  {
   "cell_type": "code",
   "execution_count": 8,
   "metadata": {},
   "outputs": [
    {
     "data": {
      "text/plain": [
       "(941, 14)"
      ]
     },
     "execution_count": 8,
     "metadata": {},
     "output_type": "execute_result"
    }
   ],
   "source": [
    "weekly = df.loc[df['salary_unit'] == 'weekly']\n",
    "weekly.shape\n"
   ]
  },
  {
   "cell_type": "code",
   "execution_count": 9,
   "metadata": {},
   "outputs": [
    {
     "data": {
      "text/plain": [
       "(677, 14)"
      ]
     },
     "execution_count": 9,
     "metadata": {},
     "output_type": "execute_result"
    }
   ],
   "source": [
    "\n",
    "daily = df.loc[df['salary_unit'] == 'daily']\n",
    "daily.shape\n"
   ]
  },
  {
   "cell_type": "code",
   "execution_count": 10,
   "metadata": {},
   "outputs": [],
   "source": [
    "# Select jobs with salaries in the target range"
   ]
  },
  {
   "cell_type": "code",
   "execution_count": 11,
   "metadata": {},
   "outputs": [
    {
     "data": {
      "text/plain": [
       "(21483, 14)"
      ]
     },
     "execution_count": 11,
     "metadata": {},
     "output_type": "execute_result"
    }
   ],
   "source": [
    "year_final = yearly[((yearly.salary_low >= 70000) & (yearly.salary_low <= 110000)) | \n",
    "                    ((yearly.salary_high >= 70000) & (yearly.salary_high <= 110000))]\n",
    "year_final.to_excel(\"C:/Users/rmbrm/Documents/contract projects/Nestling/2020/road_show/yearly_final.xlsx\")\n",
    "year_final.shape"
   ]
  },
  {
   "cell_type": "code",
   "execution_count": 12,
   "metadata": {},
   "outputs": [
    {
     "data": {
      "text/plain": [
       "(593, 14)"
      ]
     },
     "execution_count": 12,
     "metadata": {},
     "output_type": "execute_result"
    }
   ],
   "source": [
    "# monthly\n",
    "month_final = monthly[((monthly.salary_low >= 5833.33) & (monthly.salary_low <= 9166.67)) | \n",
    "                      ((monthly.salary_high >= 5833.33) & (monthly.salary_high <= 110000))]\n",
    "month_final.to_excel(\"C:/Users/rmbrm/Documents/contract projects/Nestling/2020/road_show/monthly_final.xlsx\")\n",
    "month_final.shape"
   ]
  },
  {
   "cell_type": "code",
   "execution_count": 13,
   "metadata": {},
   "outputs": [
    {
     "data": {
      "text/plain": [
       "(596, 14)"
      ]
     },
     "execution_count": 13,
     "metadata": {},
     "output_type": "execute_result"
    }
   ],
   "source": [
    "# weekly\n",
    "week_final = weekly[((weekly.salary_low >= 1346.15) & (weekly.salary_low <= 9166.67)) | \n",
    "                    ((weekly.salary_high >= 1346.15) & (weekly.salary_high <= 2115.38))]\n",
    "week_final.to_excel(\"C:/Users/rmbrm/Documents/contract projects/Nestling/2020/road_show/weekly_final.xlsx\")\n",
    "week_final.shape"
   ]
  },
  {
   "cell_type": "code",
   "execution_count": 14,
   "metadata": {},
   "outputs": [
    {
     "data": {
      "text/plain": [
       "(123, 14)"
      ]
     },
     "execution_count": 14,
     "metadata": {},
     "output_type": "execute_result"
    }
   ],
   "source": [
    "# daily\n",
    "day_final = daily[((daily.salary_low >= 269.23) & (daily.salary_low <= 423.08)) | \n",
    "                  ((daily.salary_high >= 269.23) & (daily.salary_high <= 423.08))]\n",
    "day_final.to_excel(\"C:/Users/rmbrm/Documents/contract projects/Nestling/2020/road_show/daily_final.xlsx\")\n",
    "day_final.shape"
   ]
  },
  {
   "cell_type": "code",
   "execution_count": 15,
   "metadata": {},
   "outputs": [
    {
     "data": {
      "text/plain": [
       "(3884, 14)"
      ]
     },
     "execution_count": 15,
     "metadata": {},
     "output_type": "execute_result"
    }
   ],
   "source": [
    "# hourly\n",
    "hour_final = hourly[((hourly.salary_low >= 33.65) & (hourly.salary_low <= 52.88)) | \n",
    "                    ((hourly.salary_high >= 33.65) & (hourly.salary_high <= 52.88))]\n",
    "hour_final.to_excel(\"C:/Users/rmbrm/Documents/contract projects/Nestling/2020/road_show/hourly_final.xlsx\")\n",
    "hour_final.shape"
   ]
  },
  {
   "cell_type": "code",
   "execution_count": 16,
   "metadata": {},
   "outputs": [
    {
     "data": {
      "text/plain": [
       "(26679, 14)"
      ]
     },
     "execution_count": 16,
     "metadata": {},
     "output_type": "execute_result"
    }
   ],
   "source": [
    "final = pd.concat([year_final, month_final, week_final, day_final, hour_final])\n",
    "final.shape"
   ]
  },
  {
   "cell_type": "code",
   "execution_count": 52,
   "metadata": {},
   "outputs": [],
   "source": [
    "final.to_excel(\"C:/Users/rmbrm/Documents/contract projects/Nestling/2020/road_show/all_final.xlsx\")"
   ]
  }
 ],
 "metadata": {
  "kernelspec": {
   "display_name": "Python 3",
   "language": "python",
   "name": "python3"
  },
  "language_info": {
   "codemirror_mode": {
    "name": "ipython",
    "version": 3
   },
   "file_extension": ".py",
   "mimetype": "text/x-python",
   "name": "python",
   "nbconvert_exporter": "python",
   "pygments_lexer": "ipython3",
   "version": "3.7.3"
  }
 },
 "nbformat": 4,
 "nbformat_minor": 2
}
